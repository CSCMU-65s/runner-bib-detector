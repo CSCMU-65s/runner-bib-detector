{
 "cells": [
  {
   "cell_type": "code",
   "execution_count": 17,
   "id": "reserved-illustration",
   "metadata": {},
   "outputs": [],
   "source": [
    "import h5py\n",
    "import cv2 as cv"
   ]
  },
  {
   "cell_type": "code",
   "execution_count": 5,
   "id": "ranking-science",
   "metadata": {},
   "outputs": [],
   "source": [
    "def get_img_name(f, idx=0):\n",
    "    names = f['digitStruct/name']\n",
    "    img_name = ''.join(map(chr, f[names[idx][0]][()].flatten()))\n",
    "    return(img_name)"
   ]
  },
  {
   "cell_type": "code",
   "execution_count": 6,
   "id": "developing-jesus",
   "metadata": {},
   "outputs": [],
   "source": [
    "def get_img_boxes(f, idx=0):\n",
    "    \"\"\"\n",
    "    get the 'height', 'left', 'top', 'width', 'label' of bounding boxes of an image\n",
    "    :param f: h5py.File\n",
    "    :param idx: index of the image\n",
    "    :return: dictionary\n",
    "    \"\"\"\n",
    "    bboxs = f['digitStruct/bbox']\n",
    "    box = f[bboxs[idx][0]]\n",
    "    meta = { key : [] for key in box.keys()}\n",
    "\n",
    "    for key in box.keys():\n",
    "        if box[key].shape[0] == 1:\n",
    "            meta[key].append(int(box[key][0][0]))\n",
    "        else:\n",
    "            for i in range(box[key].shape[0]):\n",
    "                meta[key].append(int(f[box[key][i][0]][()].item()))\n",
    "\n",
    "    return meta"
   ]
  },
  {
   "cell_type": "code",
   "execution_count": 22,
   "id": "interstate-conviction",
   "metadata": {},
   "outputs": [],
   "source": [
    "def create_annot_file(f, path, idx=0):\n",
    "    # get image name and bounding info\n",
    "    name = get_img_name(f, idx)\n",
    "    boxes = get_img_boxes(f, idx)\n",
    "    \n",
    "    # get dimensions of image\n",
    "    try:\n",
    "        (h_img, w_img) = cv.imread(path + name).shape[:2]\n",
    "    except:\n",
    "        print(f\"ERROR: Could not open {name} to get dimensions.\")\n",
    "        print(\"Make sure image is in same directory as digitStruct.mat\")\n",
    "        print(f\"Tried:  {path + name}\")\n",
    "        \n",
    "    # initialize list for annotations\n",
    "    annots = []\n",
    "    \n",
    "    for i in range(len(boxes['label'])):\n",
    "        # get original bounding values\n",
    "        (x, y) = (boxes['left'][i], boxes['top'][i])\n",
    "        (w, h) = (boxes['width'][i], boxes['height'][i])\n",
    "\n",
    "        # transform x and y\n",
    "        centerX = x + (w / 2)\n",
    "        centerY = y + (h / 2)\n",
    "\n",
    "        # normalize bounding values\n",
    "        centerX /= w_img\n",
    "        centerY /= h_img\n",
    "        w /= w_img\n",
    "        h /= h_img\n",
    "\n",
    "        # get label\n",
    "        label = boxes['label'][i] if boxes['label'][i] != 10 else 0\n",
    "\n",
    "        # append annotation in Darknet format to annotation list\n",
    "        annots.append(f'{label} {centerX} {centerY} {w} {h}\\n' )\n",
    "    \n",
    "    # write annotations to file \n",
    "    annot_file = open(path + name.split('.')[0] + '.txt', 'w')\n",
    "    annot_file.writelines(annots)\n",
    "    annot_file.close()"
   ]
  },
  {
   "cell_type": "code",
   "execution_count": 23,
   "id": "million-collapse",
   "metadata": {},
   "outputs": [],
   "source": [
    "def create_annot_files(path):\n",
    "    if path[-1] != '/':\n",
    "        path += '/'\n",
    "    \n",
    "    try:\n",
    "        f = h5py.File(f'{path}digitStruct.mat', mode='r')\n",
    "    except:\n",
    "        print(\"ERROR: Could not open file.  Check path to digitStruct.mat\")\n",
    "        \n",
    "    for i in range(len(f['digitStruct/name'])):\n",
    "        create_annot_file(f, path, i)"
   ]
  },
  {
   "cell_type": "code",
   "execution_count": 24,
   "id": "opening-thriller",
   "metadata": {},
   "outputs": [],
   "source": [
    "path = './Data/SVHN/Full/train'\n",
    "\n",
    "create_annot_files(path)"
   ]
  },
  {
   "cell_type": "code",
   "execution_count": null,
   "id": "interpreted-moses",
   "metadata": {},
   "outputs": [],
   "source": []
  },
  {
   "cell_type": "markdown",
   "id": "synthetic-truck",
   "metadata": {},
   "source": [
    "### Testing on single image\n",
    "---"
   ]
  },
  {
   "cell_type": "code",
   "execution_count": 10,
   "id": "guilty-mitchell",
   "metadata": {},
   "outputs": [
    {
     "data": {
      "text/plain": [
       "['1 0.4117647058823529 0.5 0.14705882352941177 0.8571428571428571\\n',\n",
       " '7 0.5955882352941176 0.5357142857142857 0.25 0.8571428571428571\\n']"
      ]
     },
     "execution_count": 10,
     "metadata": {},
     "output_type": "execute_result"
    }
   ],
   "source": [
    "annots"
   ]
  },
  {
   "cell_type": "code",
   "execution_count": 11,
   "id": "efficient-humor",
   "metadata": {},
   "outputs": [],
   "source": [
    "img = cv.imread(path + name)\n",
    "h, w = img.shape[:2]"
   ]
  },
  {
   "cell_type": "code",
   "execution_count": 12,
   "id": "direct-model",
   "metadata": {},
   "outputs": [
    {
     "name": "stdout",
     "output_type": "stream",
     "text": [
      "(28, 68)\n"
     ]
    }
   ],
   "source": [
    "print(f'({h}, {w})')"
   ]
  },
  {
   "cell_type": "code",
   "execution_count": 13,
   "id": "unlikely-swaziland",
   "metadata": {},
   "outputs": [],
   "source": [
    "np.random.seed(42)\n",
    "colors = np.random.randint(0, 255, size=(10, 3), dtype='uint8')"
   ]
  },
  {
   "cell_type": "code",
   "execution_count": 14,
   "id": "applied-cover",
   "metadata": {},
   "outputs": [],
   "source": [
    "boxes = []\n",
    "classIDs = []\n",
    "\n",
    "for annot in annots:\n",
    "    detection = annot.split(' ')\n",
    "    detection[-1] = detection[-1][:-2]\n",
    "\n",
    "    classIDs.append(int(detection[0]))\n",
    "    box = list(map(float, detection[-4:])) * np.array([w, h, w, h])\n",
    "    (centerX, centerY, width, height) = box.astype(\"int\")\n",
    "    x = int(centerX - (width / 2))\n",
    "    y = int(centerY - (height / 2))\n",
    "    box = [x, y, int(width), int(height)]\n",
    "    boxes.append(box)"
   ]
  },
  {
   "cell_type": "code",
   "execution_count": 15,
   "id": "local-venue",
   "metadata": {},
   "outputs": [
    {
     "data": {
      "text/plain": [
       "[[23, 2, 10, 23], [31, 3, 17, 23]]"
      ]
     },
     "execution_count": 15,
     "metadata": {},
     "output_type": "execute_result"
    }
   ],
   "source": [
    "boxes"
   ]
  },
  {
   "cell_type": "code",
   "execution_count": 16,
   "id": "opposite-mentor",
   "metadata": {},
   "outputs": [
    {
     "data": {
      "text/plain": [
       "[1, 7]"
      ]
     },
     "execution_count": 16,
     "metadata": {},
     "output_type": "execute_result"
    }
   ],
   "source": [
    "classIDs"
   ]
  },
  {
   "cell_type": "code",
   "execution_count": 17,
   "id": "partial-preview",
   "metadata": {},
   "outputs": [],
   "source": [
    "for i in range(len(classIDs)):\n",
    "    (x, y) = (boxes[i][0], boxes[i][1])\n",
    "    (w, h) = (boxes[i][2], boxes[i][3])\n",
    "    color = [int(c) for c in colors[classIDs[i]]]\n",
    "    cv.rectangle(img, (x, y), (x + w, y + h), color, 2)\n",
    "    text = str(classIDs[i])\n",
    "    cv.putText(img, text, (x, y - 5), cv.FONT_HERSHEY_SIMPLEX, 0.5, color, 1)"
   ]
  },
  {
   "cell_type": "code",
   "execution_count": 18,
   "id": "occasional-output",
   "metadata": {},
   "outputs": [],
   "source": [
    "# Display the resulting frame\n",
    "cv.imshow('frame',img)\n",
    "cv.waitKey(1)\n",
    "cv.destroyAllWindows()"
   ]
  },
  {
   "cell_type": "code",
   "execution_count": null,
   "id": "ready-hollow",
   "metadata": {},
   "outputs": [],
   "source": []
  }
 ],
 "metadata": {
  "kernelspec": {
   "display_name": "Python 3",
   "language": "python",
   "name": "python3"
  },
  "language_info": {
   "codemirror_mode": {
    "name": "ipython",
    "version": 3
   },
   "file_extension": ".py",
   "mimetype": "text/x-python",
   "name": "python",
   "nbconvert_exporter": "python",
   "pygments_lexer": "ipython3",
   "version": "3.8.5"
  }
 },
 "nbformat": 4,
 "nbformat_minor": 5
}
