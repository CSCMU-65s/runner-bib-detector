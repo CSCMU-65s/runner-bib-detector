{
 "cells": [
  {
   "cell_type": "code",
   "execution_count": 1,
   "id": "included-dragon",
   "metadata": {},
   "outputs": [],
   "source": [
    "import scipy.io as sio\n",
    "import h5py\n",
    "import random\n",
    "import cv2 as cv"
   ]
  },
  {
   "cell_type": "code",
   "execution_count": 2,
   "id": "vocal-dining",
   "metadata": {},
   "outputs": [],
   "source": [
    "f = h5py.File('./Data/SVHN/Full/train/digitStruct.mat', mode='r')"
   ]
  },
  {
   "cell_type": "code",
   "execution_count": 3,
   "id": "infectious-annual",
   "metadata": {},
   "outputs": [],
   "source": [
    "# from https://www.vitaarca.net/post/tech/access_svhn_data_in_python/\n",
    "names = f['digitStruct/name']\n",
    "bboxs = f['digitStruct/bbox']"
   ]
  },
  {
   "cell_type": "code",
   "execution_count": 4,
   "id": "brilliant-reaction",
   "metadata": {},
   "outputs": [],
   "source": [
    "def get_img_name(f, idx=0):\n",
    "    img_name = ''.join(map(chr, f[names[idx][0]][()].flatten()))\n",
    "    return(img_name)\n",
    "\n",
    "def get_img_boxes(f, idx=0):\n",
    "    \"\"\"\n",
    "    get the 'height', 'left', 'top', 'width', 'label' of bounding boxes of an image\n",
    "    :param f: h5py.File\n",
    "    :param idx: index of the image\n",
    "    :return: dictionary\n",
    "    \"\"\"\n",
    "    box = f[bboxs[idx][0]]\n",
    "    meta = { key : [] for key in box.keys()}\n",
    "\n",
    "    for key in box.keys():\n",
    "        if box[key].shape[0] == 1:\n",
    "            meta[key].append(int(box[key][0][0]))\n",
    "        else:\n",
    "            for i in range(box[key].shape[0]):\n",
    "                meta[key].append(int(f[box[key][i][0]][()].item()))\n",
    "\n",
    "    return meta"
   ]
  },
  {
   "cell_type": "code",
   "execution_count": 5,
   "id": "moral-boutique",
   "metadata": {},
   "outputs": [
    {
     "data": {
      "text/plain": [
       "(350, 741)"
      ]
     },
     "execution_count": 5,
     "metadata": {},
     "output_type": "execute_result"
    }
   ],
   "source": [
    "idx = 0\n",
    "boxes = get_img_boxes(f, idx)\n",
    "\n",
    "img = cv.imread('Data/SVHN/Full/train/' + get_img_name(f, idx))\n",
    "img.shape[:2]"
   ]
  },
  {
   "cell_type": "code",
   "execution_count": 6,
   "id": "cardiac-excitement",
   "metadata": {},
   "outputs": [],
   "source": [
    "for i in range(len(boxes['label'])):\n",
    "    (x, y) = (boxes['left'][i], boxes['top'][i])\n",
    "    (w, h) = (boxes['width'][i], boxes['height'][i])\n",
    "    color = 125\n",
    "    cv.rectangle(img, (x,y), (x+w, y+h), color, 2)\n",
    "    text = str(boxes['label'][i])\n",
    "    cv.putText(img, text, (x, y - 5), cv.FONT_HERSHEY_SIMPLEX, 0.5, color, 1)\n",
    "\n",
    "cv.imshow('window', img)\n",
    "cv.waitKey(0)\n",
    "cv.destroyAllWindows()"
   ]
  },
  {
   "cell_type": "code",
   "execution_count": null,
   "id": "revolutionary-maintenance",
   "metadata": {},
   "outputs": [],
   "source": []
  }
 ],
 "metadata": {
  "kernelspec": {
   "display_name": "Python 3",
   "language": "python",
   "name": "python3"
  },
  "language_info": {
   "codemirror_mode": {
    "name": "ipython",
    "version": 3
   },
   "file_extension": ".py",
   "mimetype": "text/x-python",
   "name": "python",
   "nbconvert_exporter": "python",
   "pygments_lexer": "ipython3",
   "version": "3.8.5"
  }
 },
 "nbformat": 4,
 "nbformat_minor": 5
}
