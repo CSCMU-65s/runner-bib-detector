{
 "cells": [
  {
   "cell_type": "code",
   "execution_count": 1,
   "id": "deluxe-orchestra",
   "metadata": {},
   "outputs": [],
   "source": [
    "import os\n",
    "import cv2 as cv\n",
    "import scipy.io as sio"
   ]
  },
  {
   "cell_type": "code",
   "execution_count": 2,
   "id": "civilian-sandwich",
   "metadata": {},
   "outputs": [],
   "source": [
    "def get_cropped_bib(image, input_path, out_path):  \n",
    "    \n",
    "    #load image\n",
    "    img = cv.imread(input_path + image)\n",
    "    \n",
    "    # load annotation file\n",
    "    f = sio.loadmat(input_path + image + '.mat')\n",
    "\n",
    "    #get bounding boxes and bib numbers\n",
    "    boxes = f['tagp']\n",
    "    numbers = f['number'].flatten()\n",
    "\n",
    "    for i, box in enumerate(boxes):\n",
    "        #convert box values to int\n",
    "        (t, b, l, r) = [int(i) for i in box]\n",
    "        # crop image and save\n",
    "        crop_img = img[t:b, l:r]\n",
    "        crop_name = image[:-4]+'_'+'bib_'+str(i+1)+'.JPG'\n",
    "        cv.imwrite(out_path + crop_name, crop_img)\n",
    "        # write race bib number to file\n",
    "        rbn_file = open(output_path + 'bib_numbers.txt', 'a')\n",
    "        rbn_file.writelines(f\"{crop_name},{numbers[i]}\\n\")"
   ]
  },
  {
   "cell_type": "code",
   "execution_count": 4,
   "id": "breeding-navigation",
   "metadata": {},
   "outputs": [],
   "source": [
    "images_path = '../Data/RBNR/set1_org/'\n",
    "images = [file for file in os.listdir(images_path) if file[-3:]=='JPG']\n",
    "\n",
    "output_path = '../Data/bibs/'"
   ]
  },
  {
   "cell_type": "code",
   "execution_count": 5,
   "id": "certain-mailman",
   "metadata": {},
   "outputs": [],
   "source": [
    "#check for existing bib_numbers.txt and remove if exists\n",
    "if os.path.exists(output_path + 'bib_numbers.txt'):\n",
    "    os.remove(output_path + 'bib_numbers.txt')"
   ]
  },
  {
   "cell_type": "code",
   "execution_count": 6,
   "id": "backed-aside",
   "metadata": {},
   "outputs": [],
   "source": [
    "for image in images:\n",
    "    get_cropped_bib(image, images_path, output_path)"
   ]
  },
  {
   "cell_type": "code",
   "execution_count": 7,
   "id": "posted-appreciation",
   "metadata": {},
   "outputs": [],
   "source": [
    "images_path = '../Data/RBNR/set2_org/'\n",
    "images = [file for file in os.listdir(images_path) if file[-3:]=='JPG']\n",
    "\n",
    "for image in images:\n",
    "    get_cropped_bib(image, images_path, output_path)"
   ]
  },
  {
   "cell_type": "code",
   "execution_count": 8,
   "id": "original-night",
   "metadata": {},
   "outputs": [],
   "source": [
    "images_path = '../Data/RBNR/set3_org/'\n",
    "images = [file for file in os.listdir(images_path) if file[-3:]=='JPG']\n",
    "\n",
    "for image in images:\n",
    "    get_cropped_bib(image, images_path, output_path)"
   ]
  },
  {
   "cell_type": "code",
   "execution_count": null,
   "id": "possible-bullet",
   "metadata": {},
   "outputs": [],
   "source": []
  }
 ],
 "metadata": {
  "kernelspec": {
   "display_name": "Python 3",
   "language": "python",
   "name": "python3"
  },
  "language_info": {
   "codemirror_mode": {
    "name": "ipython",
    "version": 3
   },
   "file_extension": ".py",
   "mimetype": "text/x-python",
   "name": "python",
   "nbconvert_exporter": "python",
   "pygments_lexer": "ipython3",
   "version": "3.8.5"
  }
 },
 "nbformat": 4,
 "nbformat_minor": 5
}
