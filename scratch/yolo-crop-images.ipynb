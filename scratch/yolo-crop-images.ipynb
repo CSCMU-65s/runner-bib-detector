{
 "cells": [
  {
   "cell_type": "code",
   "execution_count": 1,
   "id": "standing-mineral",
   "metadata": {},
   "outputs": [],
   "source": [
    "# YOLO object detection\n",
    "import cv2 as cv\n",
    "import numpy as np\n",
    "import os"
   ]
  },
  {
   "cell_type": "code",
   "execution_count": 18,
   "id": "accurate-myrtle",
   "metadata": {},
   "outputs": [],
   "source": [
    "# Give the configuration and weight files for the model and load the network.\n",
    "configPath = 'Data/YOLO/yolov4.cfg'\n",
    "weightsPath = 'Data/Yolo/yolov4.weights'\n",
    "\n",
    "net = cv.dnn.readNetFromDarknet(configPath, weightsPath)\n",
    "net.setPreferableBackend(cv.dnn.DNN_BACKEND_OPENCV)\n",
    "\n",
    "# determine the output layer\n",
    "ln = net.getLayerNames()\n",
    "ln = [ln[i[0] - 1] for i in net.getUnconnectedOutLayers()]"
   ]
  },
  {
   "cell_type": "code",
   "execution_count": 21,
   "id": "southeast-perry",
   "metadata": {},
   "outputs": [],
   "source": [
    "def get_cropped_image(image, input_path, out_path):    \n",
    "    # read in image and construct a blob from the image\n",
    "    img = cv.imread(input_path + image)\n",
    "    blob = cv.dnn.blobFromImage(img, 1/255.0, (416, 416), swapRB=True, crop=False)\n",
    "\n",
    "    # get detections\n",
    "    net.setInput(blob)\n",
    "    outputs = net.forward(ln)\n",
    "\n",
    "    # initialize lists\n",
    "    boxes = []\n",
    "    confidences = []\n",
    "    # initialize image dimensions\n",
    "    h_img, w_img = img.shape[:2]\n",
    "\n",
    "    for output in outputs:\n",
    "        for detection in output:\n",
    "            scores = detection[5:]\n",
    "            classID = np.argmax(scores)\n",
    "            confidence = scores[classID]\n",
    "\n",
    "            # Only keep detection if it is for a person with high confidence\n",
    "            if confidence > 0.9 and classID == 0:\n",
    "                box = detection[:4] * np.array([w_img, h_img, w_img, h_img])\n",
    "                (centerX, centerY, width, height) = box.astype(\"int\")\n",
    "                x = int(centerX - (width / 2))\n",
    "                y = int(centerY - (height / 2))\n",
    "                box = [x, y, int(width), int(height)]\n",
    "                boxes.append(box)\n",
    "                confidences.append(float(confidence))\n",
    "\n",
    "    indices = cv.dnn.NMSBoxes(boxes, confidences, 0.5, 0.4)\n",
    "    if len(indices) > 0:\n",
    "        for i in indices.flatten():\n",
    "            (x, y) = (boxes[i][0], boxes[i][1])\n",
    "            (w, h) = (boxes[i][2], boxes[i][3])\n",
    "            \n",
    "            # check that all dimensions of bounding box are within image\n",
    "            upper = y if y > 0 else 0\n",
    "            lower = y+h if y+h < h_img else h_img\n",
    "            left = x if x > 0 else 0\n",
    "            right = x+w if x+w < w_img else w_img\n",
    "            # crop image and save\n",
    "            crop_img = img[upper:lower, left:right]\n",
    "            cv.imwrite(out_path+image[:-4]+'_'+'crop_'+str(i)+'.JPG', crop_img)"
   ]
  },
  {
   "cell_type": "code",
   "execution_count": 4,
   "id": "ignored-trace",
   "metadata": {},
   "outputs": [],
   "source": [
    "images_path = './Data/RBNR/set1_org/'\n",
    "images = [file for file in os.listdir(images_path) if file[-3:]=='JPG']\n",
    "\n",
    "output_path = './Data/Crops/'"
   ]
  },
  {
   "cell_type": "code",
   "execution_count": 22,
   "id": "typical-conversion",
   "metadata": {},
   "outputs": [],
   "source": [
    "for image in images:\n",
    "    get_cropped_image(image, images_path, output_path)"
   ]
  },
  {
   "cell_type": "code",
   "execution_count": null,
   "id": "governmental-porter",
   "metadata": {},
   "outputs": [],
   "source": []
  }
 ],
 "metadata": {
  "kernelspec": {
   "display_name": "Python 3",
   "language": "python",
   "name": "python3"
  },
  "language_info": {
   "codemirror_mode": {
    "name": "ipython",
    "version": 3
   },
   "file_extension": ".py",
   "mimetype": "text/x-python",
   "name": "python",
   "nbconvert_exporter": "python",
   "pygments_lexer": "ipython3",
   "version": "3.8.5"
  }
 },
 "nbformat": 4,
 "nbformat_minor": 5
}
